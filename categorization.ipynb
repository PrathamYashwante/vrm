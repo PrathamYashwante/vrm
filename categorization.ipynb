{
  "nbformat": 4,
  "nbformat_minor": 0,
  "metadata": {
    "colab": {
      "provenance": []
    },
    "kernelspec": {
      "name": "python3",
      "display_name": "Python 3"
    },
    "language_info": {
      "name": "python"
    }
  },
  "cells": [
    {
      "cell_type": "code",
      "source": [
        "import re"
      ],
      "metadata": {
        "id": "Bv9YAwJqp_QT"
      },
      "execution_count": 24,
      "outputs": []
    },
    {
      "cell_type": "code",
      "source": [
        "table_names = [\n",
        "    \"blender\", \"blender_pc\", \"bulker\", \"bulker_packers\", \"bulker_packers_pc\",\n",
        "    \"bulker_pc\", \"bulker_vrm2\", \"bulker_vrm2_pc\", \"common_group\", \"common_group_pc\",\n",
        "    \"kk20v\", \"kk20v_pc\", \"kk20v_sm\", \"lighting_trf_loss\", \"lighting_trf_losses_vrm2\",\n",
        "    \"lighting_trf_losses_vrm2_pc\", \"lighting_trf_loss_pc\", \"lighting_trf_loss_vrm1\",\n",
        "    \"lighting_trf_loss_vrm1_pc\", \"others\", \"others_pc\", \"rmhs\", \"rmhs_pc\",\n",
        "    \"rp_1_grinding\", \"rp_1_grinding_pc\", \"rp_1_grinding_sm\", \"rp_2_grinding\",\n",
        "    \"rp_2_grinding_pc\", \"rp_2_grinding_sm\", \"users\", \"utilites\", \"utilites_pc\",\n",
        "    \"utility\", \"utility_pc\", \"utility_vrm2\", \"utility_vrm2_pc\", \"vrm_1_gc_self\",\n",
        "    \"vrm_1_gc_self_pc\", \"vrm_1_gs\", \"vrm_1_gs_pc\", \"vrm_2_gc_self\", \"vrm_2_gc_self_pc\",\n",
        "    \"vrm_2_opc_m\", \"vrm_2_opc_m_pc\"\n",
        "]"
      ],
      "metadata": {
        "id": "P4MDYpjgqAj3"
      },
      "execution_count": 25,
      "outputs": []
    },
    {
      "cell_type": "code",
      "source": [
        "def bubble_sort(arr):\n",
        "    n = len(arr)\n",
        "    for i in range(n):\n",
        "        for j in range(0, n-i-1):\n",
        "            if arr[j] > arr[j+1]:\n",
        "                arr[j], arr[j+1] = arr[j+1], arr[j]"
      ],
      "metadata": {
        "id": "msLgs0zyqBqA"
      },
      "execution_count": 26,
      "outputs": []
    },
    {
      "cell_type": "code",
      "source": [
        "bubble_sort(table_names)"
      ],
      "metadata": {
        "id": "dn-ilACHqCfp"
      },
      "execution_count": 27,
      "outputs": []
    },
    {
      "cell_type": "code",
      "source": [
        "def f_startswith(string, prefix):\n",
        "    len_prefix = len(prefix)\n",
        "    len_string = len(string)\n",
        "    if len_prefix > len_string:\n",
        "        return False\n",
        "\n",
        "    for i in range(len_prefix):\n",
        "        if string[i] != prefix[i]:\n",
        "            return False\n",
        "\n",
        "    return True"
      ],
      "metadata": {
        "id": "yrhkIETgqKn_"
      },
      "execution_count": 29,
      "outputs": []
    },
    {
      "cell_type": "code",
      "source": [
        "pattern_dict = {}"
      ],
      "metadata": {
        "id": "SMT_29PAqD7W"
      },
      "execution_count": 28,
      "outputs": []
    },
    {
      "cell_type": "code",
      "source": [
        "for table_name in table_names:\n",
        "    for prefix in table_names:\n",
        "        if f_startswith(table_name, prefix):\n",
        "            if prefix not in pattern_dict:\n",
        "                pattern_dict[prefix] = []\n",
        "            pattern_dict[prefix].append(table_name)"
      ],
      "metadata": {
        "id": "cdDijW9_qOFZ"
      },
      "execution_count": 30,
      "outputs": []
    },
    {
      "cell_type": "code",
      "source": [
        "result_lists = []\n",
        "for result_list in pattern_dict.values():\n",
        "    if len(result_list) > 1:\n",
        "        result_lists.append(result_list)"
      ],
      "metadata": {
        "id": "ja7wgyvQqZsy"
      },
      "execution_count": 31,
      "outputs": []
    },
    {
      "cell_type": "code",
      "source": [
        "for result_list in result_lists:\n",
        "    print(result_list)"
      ],
      "metadata": {
        "colab": {
          "base_uri": "https://localhost:8080/"
        },
        "id": "ka2fURdNqazJ",
        "outputId": "10f5a819-54b0-4c48-ce2c-f1bbfa393fe3"
      },
      "execution_count": 32,
      "outputs": [
        {
          "output_type": "stream",
          "name": "stdout",
          "text": [
            "['blender', 'blender_pc']\n",
            "['bulker', 'bulker_packers', 'bulker_packers_pc', 'bulker_pc', 'bulker_vrm2', 'bulker_vrm2_pc']\n",
            "['bulker_packers', 'bulker_packers_pc']\n",
            "['bulker_vrm2', 'bulker_vrm2_pc']\n",
            "['common_group', 'common_group_pc']\n",
            "['kk20v', 'kk20v_pc', 'kk20v_sm']\n",
            "['lighting_trf_loss', 'lighting_trf_loss_pc', 'lighting_trf_loss_vrm1', 'lighting_trf_loss_vrm1_pc', 'lighting_trf_losses_vrm2', 'lighting_trf_losses_vrm2_pc']\n",
            "['lighting_trf_loss_vrm1', 'lighting_trf_loss_vrm1_pc']\n",
            "['lighting_trf_losses_vrm2', 'lighting_trf_losses_vrm2_pc']\n",
            "['others', 'others_pc']\n",
            "['rmhs', 'rmhs_pc']\n",
            "['rp_1_grinding', 'rp_1_grinding_pc', 'rp_1_grinding_sm']\n",
            "['rp_2_grinding', 'rp_2_grinding_pc', 'rp_2_grinding_sm']\n",
            "['utilites', 'utilites_pc']\n",
            "['utility', 'utility_pc', 'utility_vrm2', 'utility_vrm2_pc']\n",
            "['utility_vrm2', 'utility_vrm2_pc']\n",
            "['vrm_1_gc_self', 'vrm_1_gc_self_pc']\n",
            "['vrm_1_gs', 'vrm_1_gs_pc']\n",
            "['vrm_2_gc_self', 'vrm_2_gc_self_pc']\n",
            "['vrm_2_opc_m', 'vrm_2_opc_m_pc']\n"
          ]
        }
      ]
    }
  ]
}